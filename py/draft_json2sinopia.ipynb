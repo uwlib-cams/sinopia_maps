{
 "cells": [
  {
   "cell_type": "markdown",
   "metadata": {},
   "source": [
    "# TEST loading RTs to Sinopia\n",
    "- @mcm104 wrote [s2s04json2sinopia.py](s2s04json2sinopia.py)\n",
    "- I'm trying to understand it and make it work\n",
    "- Going to attempt to load [../docs/rdf/TEST_WAU_rdacManifestation_test_literal_props_ries07.json](../docs/rdf/TEST_WAU_rdacManifestation_test_literal_props_ries07.json)\n"
   ]
  },
  {
   "cell_type": "markdown",
   "metadata": {},
   "source": [
    "## But first, a digression\n",
    "Need to understand the `str.split()` method a bit better"
   ]
  },
  {
   "cell_type": "code",
   "execution_count": null,
   "metadata": {},
   "outputs": [],
   "source": [
    "string = \"well.now.here's.a.test\"\n",
    "print(string.split(\".\")[0])"
   ]
  },
  {
   "cell_type": "code",
   "execution_count": null,
   "metadata": {},
   "outputs": [],
   "source": [
    "print(f\"{string.split('.')[0]} - {string.split('.')[2]} - {string.split('.')[4]}\")"
   ]
  },
  {
   "cell_type": "code",
   "execution_count": null,
   "metadata": {},
   "outputs": [],
   "source": [
    "\"\"\"\n",
    "import os\n",
    "import requests\n",
    "\n",
    "jwt = input(\"Enter the jwt:\\n\")\n",
    "headers = {\"Authorization\": f\"Bearer {jwt}\", \"Content-Type\": \"application/json\"}\n",
    "\"\"\"\n",
    "\n",
    "file = \"../docs/rdf/TEST_WAU_rdacManifestation_test_literal_props_ries07.json\"\n",
    "open_file = open(file)\n",
    "data = open_file.read()\n",
    "\n",
    "# what is 'file'? filename?\n",
    "print(file)\n",
    "\n",
    "# create a file id\n",
    "file_id = file.split(\"rdf/\")[1]\n",
    "print(file_id)\n",
    "file_id = file_id.split(\".\")[0]\n",
    "print(file_id)\n",
    "file_id = file_id.replace(\"_\", \":\")\n",
    "print(file_id)"
   ]
  },
  {
   "cell_type": "markdown",
   "metadata": {},
   "source": [
    "## Attempt post..."
   ]
  },
  {
   "cell_type": "code",
   "execution_count": null,
   "metadata": {},
   "outputs": [],
   "source": [
    "import os\n",
    "import requests\n",
    "\n",
    "environment = input(\"Enter the Sinopia environment to post to ('production', 'stage', or 'development'):\\n\")\n",
    "jwt = input(\"Enter the jwt:\\n\")\n",
    "headers = {\"Authorization\": f\"Bearer {jwt}\", \"Content-Type\": \"application/json\"}\n",
    "file = \"../docs/rdf/TEST_WAU_rdacManifestation_test_literal_props_ries07.json\"\n",
    "\n",
    "# create a file uri\n",
    "file_id = file.split(\"rdf/\")[1]\n",
    "file_id = file_id.split(\".\")[0]\n",
    "file_id = file_id.replace(\"_\", \":\")\n",
    "file_uri = f\"https://api.{environment}.sinopia.io/resource/{file_id}\"\n",
    "print(file_uri)\n",
    "\n",
    "# I still don't understand everything from here down all that well\n",
    "\n",
    "# post\n",
    "post_to_sinopia = requests.post(file_uri, data=data.encode('utf-8'), headers = headers)\n",
    "\n",
    "# check for errors\n",
    "if post_to_sinopia.status_code != requests.codes.ok:\n",
    "    error_code = post_to_sinopia.status_code\n",
    "    if error_code == 201: # created, not actually an error\n",
    "        print(\"Success!\")\n",
    "    elif error_code == 401: # unauthorized\n",
    "        print(\"\\nFailed: Java Web Token no longer valid.\")\n",
    "    elif error_code == 409: # conflict\n",
    "        print(\"\\nFailed: IRI is not unique. Putting instead...\")\n",
    "        post_to_sinopia_2 = requests.put(file_uri, data=data.encode('utf-8'), headers = headers)\n",
    "        if post_to_sinopia_2.status_code != requests.codes.ok:\n",
    "            error_code = post_to_sinopia_2.status_code\n",
    "            if error_code != 201:\n",
    "                print(f\"Failed: {error_code}\")\n",
    "            else:\n",
    "                print(\"Success!\")\n",
    "        else:\n",
    "            print(\"Success!\")\n",
    "    else:\n",
    "        print(f\"Failed: {error_code}\")\n",
    "else:\n",
    "    print(\"Success!\")"
   ]
  },
  {
   "cell_type": "markdown",
   "metadata": {},
   "source": [
    "### ...and notes/questions\n",
    "NOTES/QUESTIONS\n",
    "- RT has `\"user\": \"ries07uwdev\"`, and I'm logged in as `ries07uwdev` when I retrieve the JWT. Is this alignment required?\n",
    "- Still failing with a `400`\n",
    "- Most likely need to read [Sinopia API ref](https://ld4p.github.io/sinopia_api/)\n",
    "- Note also that the selection of environment (production, stage, or development) is actually made at an earlier stage in the Python-processing, but that (*I believe*) the environment selected at that time must be the same environment selected here\n"
   ]
  }
 ],
 "metadata": {
  "kernelspec": {
   "display_name": "Python 3",
   "language": "python",
   "name": "python3"
  },
  "language_info": {
   "codemirror_mode": {
    "name": "ipython",
    "version": 3
   },
   "file_extension": ".py",
   "mimetype": "text/x-python",
   "name": "python",
   "nbconvert_exporter": "python",
   "pygments_lexer": "ipython3",
   "version": "3.8.5"
  }
 },
 "nbformat": 4,
 "nbformat_minor": 4
}
