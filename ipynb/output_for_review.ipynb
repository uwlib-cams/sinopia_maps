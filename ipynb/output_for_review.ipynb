{
 "cells": [
  {
   "cell_type": "markdown",
   "metadata": {},
   "source": [
    "# Output some Sinopia resources for data review\n",
    "\n",
    "1. Initialize a [Graph](https://rdflib.readthedocs.io/en/stable/apidocs/rdflib.html#rdflib.graph.Graph) and [parse()](https://rdflib.readthedocs.io/en/stable/apidocs/rdflib.html#rdflib.graph.Graph.parse) resources from Sinopia Stage API with `format = \"json-ld\"`\n",
    "2. [serialize()](https://rdflib.readthedocs.io/en/stable/apidocs/rdflib.html#rdflib.graph.Graph.serialize) each graph as `format = \"xml\"` and `format = \"turtle\"`\n",
    "\n",
    "## 💥❗ *STILL TO DO*\n",
    "- ✅ Bind namespaces so that I don't need to manually edit each RDF/XML file before adding labels below\n",
    "    - See CP [code in serialize.py](https://github.com/uwlib-cams/uwlswd/blob/ba56a94dbb6540a93cc1f3c245190a9c2d445c4a/py/serialize.py#L87-L88)\n",
    "    - See StackOverflow '[How to get graph's namespaces in rdflib](https://stackoverflow.com/questions/49927283/how-to-get-graphs-namespaces-in-rdflib)'\n",
    "    - See rdflib 7.0.0 documentation > [Namespaces and Bindings](https://rdflib.readthedocs.io/en/stable/namespaces_and_bindings.html)\n",
    "- ✅ Iterate over resource sets to initialize graphs, parse triples into graphs, and bind namespaces, without repeating code for each resource set (see option_a.py, option_b.py, etc.)\n",
    "- 🔳 Stretch goal: Output .ttl with RDA/RDF lexical aliases\n",
    "- 🔳 Optional/vague: Inspect graphs further with rdflib"
   ]
  },
  {
   "cell_type": "code",
   "execution_count": 1,
   "metadata": {},
   "outputs": [
    {
     "name": "stdout",
     "output_type": "stream",
     "text": [
      "84 triples in option_a graph\n",
      "56 triples in option_b graph\n",
      "91 triples in option_c graph\n",
      "65 triples in option_e graph\n"
     ]
    }
   ],
   "source": [
    "from rdflib import Graph, Namespace\n",
    "from option_a import option_a\n",
    "from option_b import option_b\n",
    "from option_c import option_c\n",
    "from option_e import option_e\n",
    "\n",
    "options = {\n",
    "    'option_a': option_a,\n",
    "    'option_b': option_b,\n",
    "    'option_c': option_c,\n",
    "    'option_e': option_e\n",
    "}\n",
    "for option in options:\n",
    "    # print(option)\n",
    "    resources = options[option]\n",
    "    # print(resources)\n",
    "    g = Graph()\n",
    "    for resource in resources:\n",
    "        g.parse(resource)\n",
    "    RDAW = Namespace(\"http://rdaregistry.info/Elements/w/\")\n",
    "    g.bind(\"rdaw\", RDAW)\n",
    "    RDAE = Namespace(\"http://rdaregistry.info/Elements/e/\")\n",
    "    g.bind(\"rdae\", RDAE)\n",
    "    RDAM = Namespace(\"http://rdaregistry.info/Elements/m/\")\n",
    "    g.bind(\"rdam\", RDAM)\n",
    "    RDAI = Namespace(\"http://rdaregistry.info/Elements/i/\")\n",
    "    g.bind(\"rdai\", RDAI)\n",
    "    RDAN = Namespace(\"http://rdaregistry.info/Elements/n/\")\n",
    "    g.bind(\"rdan\", RDAN)\n",
    "    SINOPIA = Namespace(\"http://sinopia.io/vocabulary/\")\n",
    "    g.bind(\"sinopia\", SINOPIA)\n",
    "    UWRDAEXT = Namespace(\"https://doi.org/10.6069/uwlib.55.d.4#\")\n",
    "    g.bind(\"uwrdaext\", UWRDAEXT)\n",
    "    print(f\"{len(g)} triples in {option} graph\")\n",
    "    g.serialize(f\"desc_sets/{option}.rdf\", format = \"xml\")\n",
    "\n",
    "# now, run transform with appendLabels.xsl in oXygen"
   ]
  }
 ],
 "metadata": {
  "kernelspec": {
   "display_name": "Python 3",
   "language": "python",
   "name": "python3"
  },
  "language_info": {
   "codemirror_mode": {
    "name": "ipython",
    "version": 3
   },
   "file_extension": ".py",
   "mimetype": "text/x-python",
   "name": "python",
   "nbconvert_exporter": "python",
   "pygments_lexer": "ipython3",
   "version": "3.11.6"
  },
  "orig_nbformat": 4
 },
 "nbformat": 4,
 "nbformat_minor": 2
}
